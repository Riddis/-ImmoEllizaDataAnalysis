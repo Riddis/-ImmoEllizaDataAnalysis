{
 "cells": [
  {
   "attachments": {},
   "cell_type": "markdown",
   "metadata": {},
   "source": [
    "Import needed libraries and the dataset csv"
   ]
  },
  {
   "cell_type": "code",
   "execution_count": 40,
   "metadata": {},
   "outputs": [
    {
     "data": {
      "text/plain": [
       "(19980, 21)"
      ]
     },
     "execution_count": 40,
     "metadata": {},
     "output_type": "execute_result"
    }
   ],
   "source": []
  },
  {
   "attachments": {},
   "cell_type": "markdown",
   "metadata": {},
   "source": [
    "Clean up the dataset"
   ]
  },
  {
   "cell_type": "code",
   "execution_count": 335,
   "metadata": {},
   "outputs": [
    {
     "data": {
      "text/plain": [
       "(6890, 22)"
      ]
     },
     "execution_count": 335,
     "metadata": {},
     "output_type": "execute_result"
    }
   ],
   "source": [
    "import pandas as pd\n",
    "import numpy as np\n",
    "from pathlib import Path\n",
    "import re\n",
    "\n",
    "# Build path to file\n",
    "# Selects current working directory\n",
    "cwd = Path.cwd()\n",
    "csv_path = 'data/dataframe.csv'\n",
    "csv_cleaned_path = 'output/dataframe_cleaned.csv'\n",
    "src_path = (cwd / csv_path).resolve()\n",
    "out_path = (cwd / csv_cleaned_path).resolve()\n",
    "\n",
    "# Read the csv\n",
    "csv = pd.read_csv(src_path, index_col=0)\n",
    "csv.shape\n",
    "\n",
    "# Removing unneeded data\n",
    "# dropping empty rows\n",
    "csv = csv.dropna(how='all')\n",
    "# dropping duplicates (if any)\n",
    "csv = csv.drop_duplicates()\n",
    "# Dropping house and appartment groups since they have no data\n",
    "csv = csv.drop(csv[(csv['property_type'] == 'HOUSE_GROUP') | (csv['property_type'] == 'APARTMENT_GROUP')].index)\n",
    "# Drop rows without a price property\n",
    "csv = csv.drop(csv[pd.isna(csv['price']) == True].index)\n",
    "# Drop rows with 0 rooms\n",
    "csv = csv.drop(csv[csv['number_rooms'] == 0].index)\n",
    "# Drop rows without a living area property\n",
    "csv = csv.drop(csv[pd.isna(csv['living_area']) == True].index)\n",
    "# Assuming that a NaN value or 0 means no kitchen installed, replacing the strings with integers\n",
    "# 0 = NOT_INSTALLED, 0.5 = SEMI_EQUIPPED, 1 = INSTALLED, 2 = HYPER_EQUIPPED\n",
    "csv['kitchen'] = csv['kitchen'].fillna('NOT_INSTALLED')\n",
    "csv['kitchen'] = csv['kitchen'].replace('0', 'NOT_INSTALLED')\n",
    "csv['kitchen'] = csv['kitchen'].replace(0, 'NOT_INSTALLED')\n",
    "\"\"\"csv['kitchen'] = csv['kitchen'].replace('USA_UNINSTALLED', 0)\n",
    "csv['kitchen'] = csv['kitchen'].replace('SEMI_EQUIPPED', 0.5)\n",
    "csv['kitchen'] = csv['kitchen'].replace('USA_SEMI_EQUIPPED', 0.5)\n",
    "csv['kitchen'] = csv['kitchen'].replace('INSTALLED', 1)\n",
    "csv['kitchen'] = csv['kitchen'].replace('USA_INSTALLED', 1)\n",
    "csv['kitchen'] = csv['kitchen'].replace('HYPER_EQUIPPED', 2)\n",
    "csv['kitchen'] = csv['kitchen'].replace('USA_HYPER_EQUIPPED', 2)\"\"\"\n",
    "# Filling empty values and changing true/false to 1/0\n",
    "csv['furnished'] = csv['furnished'].fillna(0)\n",
    "csv['furnished'] = csv['furnished'].replace(False, 0)\n",
    "csv['furnished'] = csv['furnished'].replace(True, 1)\n",
    "# Assuming that a NaN value,0 or -1 means no fireplace installed\n",
    "csv['fireplace'] = csv['fireplace'].fillna(0)\n",
    "csv['fireplace'] = csv['fireplace'].replace(-1, 0)\n",
    "# Filling empty values and changing true/false to 1/0\n",
    "csv['terrace'] = csv['terrace'].fillna(0)\n",
    "csv['terrace'] = csv['terrace'].replace(False, 0)\n",
    "csv['terrace'] = csv['terrace'].replace(True, 1)\n",
    "# Assuming the surface area = living area in case of apartments\n",
    "to_replace = csv[((csv['surface_land'] == 'UNKNOWN')|(pd.isna(csv['surface_land']) == True)) & (csv['property_type'] == 'APARTMENT')]\n",
    "to_replace = to_replace.reset_index()\n",
    "# Looping through rows to replace the values\n",
    "for index, row in to_replace.iterrows():\n",
    "    csv.loc[row['index'], 'surface_land'] = row['living_area']\n",
    "# Dropping rows with no surface area \n",
    "csv = csv.drop(csv[(csv['surface_land'] == 'UNKNOWN') | (pd.isna(csv['surface_land']) == True) | (csv['surface_land'] == 0)].index)\n",
    "# Dropping rows with no facade info\n",
    "csv = csv.drop(csv[(csv['number_facades'] == 'UNKNOWN') | (pd.isna(csv['number_facades']) == True)].index)\n",
    "# Filling empty values and changing true/false to 1/0\n",
    "csv['swimming_pool'] = csv['swimming_pool'].fillna(0)\n",
    "csv['swimming_pool'] = csv['swimming_pool'].replace(False, 0)\n",
    "csv['swimming_pool'] = csv['swimming_pool'].replace(True, 1)\n",
    "csv = csv.drop(csv[(csv['building_state'] == 'UNKNOWN') | (pd.isna(csv['building_state']) == True)].index)\n",
    "\n",
    "# If terrace = 1 but no terrace_area present, drop the row\n",
    "csv = csv.drop(csv[(csv['terrace'] == 1) & (pd.isna(csv['terrace_area']) == True)].index)\n",
    "# Filling empty values and changing true/false to 1/0\n",
    "csv['terrace_area'] = csv['terrace_area'].fillna(0)\n",
    "# If garden = 1 but no garden_area present, drop the row\n",
    "csv = csv.drop(csv[(csv['garden'] == 1) & (pd.isna(csv['garden_area']) == True)].index)\n",
    "# No garden, filling empty values\n",
    "csv['garden'] = csv['garden'].fillna(0)\n",
    "csv['garden'] = csv['garden'].replace(False, 0)\n",
    "csv['garden'] = csv['garden'].replace(True, 1)\n",
    "csv['garden_area'] = csv['garden_area'].fillna(0)\n",
    "\n",
    "# Change strings to floats in certain columns\n",
    "csv = csv.drop(csv[(csv['surface_land'] == 0)].index)\n",
    "csv['surface_land']=csv['surface_land'].astype(\"float\")\n",
    "csv['number_facades']=csv['number_facades'].astype(\"float\")\n",
    "csv = csv.drop(csv[csv['zip_code'] == 'UNKNOWN'].index)\n",
    "csv = csv.drop(csv[pd.isna(csv['region']) == True].index)\n",
    "csv = csv.drop(csv[pd.isna(csv['province']) == True].index)\n",
    "csv['zip_code']=csv['zip_code'].astype(\"str\")\n",
    "csv['ppm'] = csv['price']/csv['surface_land']\n",
    "\n",
    "patternDel = \"\\b[0-9]\\{4\\}\\b\"\n",
    "filter = csv['zip_code'].str.contains(patternDel)\n",
    "csv = csv[~filter]\n",
    "\n",
    "# Saves cleaned up csv to 'data/dataframe_cleaned.csv'\n",
    "csv.to_csv(out_path)\n",
    "csv.shape\n"
   ]
  },
  {
   "cell_type": "code",
   "execution_count": 382,
   "metadata": {},
   "outputs": [],
   "source": [
    "def convert(n):\n",
    "    return str(int(int(n)/100))\n",
    "csv[\"digit\"]=csv[\"zip_code\"].agg(convert)"
   ]
  },
  {
   "cell_type": "code",
   "execution_count": 354,
   "metadata": {},
   "outputs": [],
   "source": [
    "# Removing outliers as a test\n",
    "cols = ['price', 'number_rooms', 'living_area',\n",
    "       'furnished', 'fireplace', 'terrace', 'terrace_area', 'garden',\n",
    "       'garden_area', 'surface_land', 'number_facades', 'swimming_pool'] # one or more\n",
    "\n",
    "Q1 = csv[cols].quantile(0.25)\n",
    "Q3 = csv[cols].quantile(0.75)\n",
    "IQR = Q3 - Q1\n",
    "\n",
    "csv = csv[~((csv[cols] < (Q1 - 1.5 * IQR)) |(csv[cols] > (Q3 + 1.5 * IQR))).any(axis=1)]"
   ]
  },
  {
   "cell_type": "code",
   "execution_count": 325,
   "metadata": {},
   "outputs": [
    {
     "data": {
      "text/plain": [
       "count\n",
       "1     126\n",
       "2      71\n",
       "3      33\n",
       "5      20\n",
       "4      19\n",
       "6      13\n",
       "7      10\n",
       "15      5\n",
       "11      5\n",
       "14      5\n",
       "18      3\n",
       "10      2\n",
       "23      2\n",
       "8       2\n",
       "9       2\n",
       "13      2\n",
       "19      2\n",
       "12      1\n",
       "20      1\n",
       "16      1\n",
       "45      1\n",
       "21      1\n",
       "22      1\n",
       "31      1\n",
       "37      1\n",
       "40      1\n",
       "52      1\n",
       "Name: count, dtype: int64"
      ]
     },
     "execution_count": 325,
     "metadata": {},
     "output_type": "execute_result"
    }
   ],
   "source": [
    "csv['zip_code'].value_counts().value_counts()"
   ]
  },
  {
   "cell_type": "code",
   "execution_count": 503,
   "metadata": {},
   "outputs": [
    {
     "name": "stdout",
     "output_type": "stream",
     "text": [
      "(4774, 98)\n",
      "score train:0.7106395662926464\n",
      "score test:0.7296969088324883\n",
      "rmse:90943.46048140155\n",
      "coef_determination:0.7297027943879353\n"
     ]
    }
   ],
   "source": [
    "from sklearn.model_selection import train_test_split\n",
    "from sklearn.linear_model import LinearRegression\n",
    "from sklearn.metrics import mean_squared_error\n",
    "from sklearn.preprocessing import StandardScaler, MinMaxScaler, OneHotEncoder\n",
    "\n",
    "\n",
    "x = csv[['number_rooms', 'living_area',\n",
    "       'terrace', 'terrace_area', 'garden',\n",
    "       'garden_area', 'surface_land', 'number_facades',\n",
    "       'property_type', 'building_state', 'kitchen', 'digit']]\n",
    "\n",
    "x = pd.get_dummies(data=x, drop_first=True)\n",
    "X = x.to_numpy()\n",
    "y = csv['price'].to_numpy()\n",
    "\n",
    "print(X.shape)\n",
    "\n",
    "X_train, X_test, y_train, y_test = train_test_split(X, y)\n",
    "\n",
    "scaler = MinMaxScaler()\n",
    "X_train = scaler.fit_transform(X_train)\n",
    "X_test = scaler.transform(X_test)\n",
    "\n",
    "regressor = LinearRegression().fit(X_train, y_train)\n",
    "\n",
    "score_train = regressor.score(X_train, y_train)\n",
    "score_test = regressor.score(X_test, y_test)\n",
    "\n",
    "# Get the root mean squared error\n",
    "y_pred = regressor.predict(X_test)\n",
    "#rmse = mean_squared_error(y_true=y_test, y_pred=y_pred, squared=False)\n",
    "rmse= np.sqrt(mean_squared_error(y_true=y_test, y_pred=y_pred))\n",
    "\n",
    "u = ((y_test - y_pred)**2).sum()\n",
    "v = ((y_test - y.mean())**2).sum()\n",
    "coef_determination = 1 - u/v\n",
    "\n",
    "print(f\"score train:{score_train}\")\n",
    "print(f\"score test:{score_test}\")\n",
    "print(f\"rmse:{rmse}\")\n",
    "print(f\"coef_determination:{coef_determination}\")"
   ]
  },
  {
   "cell_type": "code",
   "execution_count": 504,
   "metadata": {},
   "outputs": [
    {
     "data": {
      "text/plain": [
       "{'number_rooms': 76922.92390160236,\n",
       " 'living_area': 377092.3761515749,\n",
       " 'terrace': 5834.785755696183,\n",
       " 'terrace_area': 31193.242169320758,\n",
       " 'garden': 9742.589642986088,\n",
       " 'garden_area': -5903.74694984392,\n",
       " 'surface_land': 109757.3605649188,\n",
       " 'number_facades': 41647.978201766025,\n",
       " 'property_type_HOUSE': 14055.532066427797,\n",
       " 'building_state_GOOD': -50601.22627741234,\n",
       " 'building_state_JUST_RENOVATED': -23630.447135264258,\n",
       " 'building_state_TO_BE_DONE_UP': -77888.01274414023,\n",
       " 'building_state_TO_RENOVATE': -112504.51404308999,\n",
       " 'building_state_TO_RESTORE': -102125.14970276051,\n",
       " 'kitchen_INSTALLED': -20737.430564810114,\n",
       " 'kitchen_NOT_INSTALLED': -26333.772745557246,\n",
       " 'kitchen_SEMI_EQUIPPED': -33023.683210271585,\n",
       " 'kitchen_USA_HYPER_EQUIPPED': 20101.512381695327,\n",
       " 'kitchen_USA_INSTALLED': -41734.61688273767,\n",
       " 'kitchen_USA_SEMI_EQUIPPED': 3890.0320405411185,\n",
       " 'digit_11': 71110.67379248986,\n",
       " 'digit_12': 80651.4068886189,\n",
       " 'digit_13': -60856.6226004801,\n",
       " 'digit_14': -106865.14856902589,\n",
       " 'digit_15': -96542.12334862721,\n",
       " 'digit_16': -85459.6642316141,\n",
       " 'digit_17': -99227.03216701468,\n",
       " 'digit_18': -44264.982899886345,\n",
       " 'digit_19': 39925.28713911231,\n",
       " 'digit_20': -36573.14242781,\n",
       " 'digit_21': -112552.70800774296,\n",
       " 'digit_22': -144180.4942149993,\n",
       " 'digit_23': -140501.1457277122,\n",
       " 'digit_24': -176396.79886070412,\n",
       " 'digit_25': -71258.16505683796,\n",
       " 'digit_26': -79892.24162788791,\n",
       " 'digit_28': -76851.00061522025,\n",
       " 'digit_29': -54094.11889434689,\n",
       " 'digit_30': 9371.542936151716,\n",
       " 'digit_31': -74282.11926008863,\n",
       " 'digit_32': -101866.86350801091,\n",
       " 'digit_33': -182616.59012768418,\n",
       " 'digit_34': -163098.64767711627,\n",
       " 'digit_35': -150475.7908710171,\n",
       " 'digit_36': -166390.41376033798,\n",
       " 'digit_37': -202012.85171084164,\n",
       " 'digit_38': -174236.34395295102,\n",
       " 'digit_39': -180602.97269823586,\n",
       " 'digit_40': -198212.9230723311,\n",
       " 'digit_41': -231370.15384522817,\n",
       " 'digit_42': -286922.23327058466,\n",
       " 'digit_43': -172070.89833355678,\n",
       " 'digit_44': -211156.58043591795,\n",
       " 'digit_45': -223090.03335579557,\n",
       " 'digit_46': -194701.550573448,\n",
       " 'digit_47': -251327.07294104842,\n",
       " 'digit_48': -245036.4646105747,\n",
       " 'digit_49': -208812.57158550064,\n",
       " 'digit_50': -194408.04365110927,\n",
       " 'digit_51': -219776.47109147362,\n",
       " 'digit_53': -213564.75214322054,\n",
       " 'digit_55': -222024.7304269306,\n",
       " 'digit_56': -247863.4272860991,\n",
       " 'digit_60': -253820.23264815658,\n",
       " 'digit_61': -254520.57733170915,\n",
       " 'digit_62': -240552.02934828965,\n",
       " 'digit_65': -295467.93296091375,\n",
       " 'digit_66': -251137.02979045344,\n",
       " 'digit_67': -150222.94670675806,\n",
       " 'digit_68': -256025.50230338718,\n",
       " 'digit_69': -226453.73073010793,\n",
       " 'digit_70': -245685.36611662107,\n",
       " 'digit_71': -230847.63509034173,\n",
       " 'digit_73': -276926.7756441923,\n",
       " 'digit_75': -235315.55287138635,\n",
       " 'digit_76': -190815.04877477972,\n",
       " 'digit_77': -223774.62345762775,\n",
       " 'digit_78': -193650.00874124886,\n",
       " 'digit_79': -249873.64563928454,\n",
       " 'digit_80': -58300.279620927744,\n",
       " 'digit_82': -76848.55365537578,\n",
       " 'digit_83': -5354.324509213635,\n",
       " 'digit_84': -123037.39563224916,\n",
       " 'digit_85': -181494.11311822865,\n",
       " 'digit_86': -125828.14656892553,\n",
       " 'digit_87': -148735.0098033975,\n",
       " 'digit_88': -181800.74790898865,\n",
       " 'digit_89': -206670.9163599185,\n",
       " 'digit_90': -42485.12754136718,\n",
       " 'digit_91': -137075.9257373958,\n",
       " 'digit_92': -145799.66434586598,\n",
       " 'digit_93': -171014.30317086034,\n",
       " 'digit_94': -191637.6420364737,\n",
       " 'digit_95': -202222.13141893613,\n",
       " 'digit_96': -202185.6992126963,\n",
       " 'digit_97': -146317.79020777642,\n",
       " 'digit_98': -96904.63916641721,\n",
       " 'digit_99': -101550.04882082363}"
      ]
     },
     "execution_count": 504,
     "metadata": {},
     "output_type": "execute_result"
    }
   ],
   "source": [
    "# TODO: zijn er variabelen met extreme coefficienten?\n",
    "# TODO: welke zijn de hoogste predictions, hoe zien de X eruit daarvoor?\n",
    "# TODO: normaliseer numerical variabelen tussen 0-1 (StandardScaler())\n",
    "# TODO: zipcode minder granulair?\n",
    "dict_coef = {x.columns[i]: regressor.coef_[i] for i in range(len(x.columns))}\n",
    "dict_coef"
   ]
  },
  {
   "cell_type": "code",
   "execution_count": 231,
   "metadata": {},
   "outputs": [
    {
     "data": {
      "text/plain": [
       "1850000.0"
      ]
     },
     "execution_count": 231,
     "metadata": {},
     "output_type": "execute_result"
    }
   ],
   "source": [
    "max(y_test)"
   ]
  },
  {
   "cell_type": "code",
   "execution_count": 232,
   "metadata": {},
   "outputs": [
    {
     "data": {
      "text/plain": [
       "734689.0855482789"
      ]
     },
     "execution_count": 232,
     "metadata": {},
     "output_type": "execute_result"
    }
   ],
   "source": [
    "np.quantile(y_pred, q=0.90)"
   ]
  },
  {
   "cell_type": "code",
   "execution_count": 233,
   "metadata": {},
   "outputs": [
    {
     "data": {
      "text/plain": [
       "array([[<Axes: title={'center': '0'}>]], dtype=object)"
      ]
     },
     "execution_count": 233,
     "metadata": {},
     "output_type": "execute_result"
    },
    {
     "data": {
      "image/png": "[encoded data removed]",
      "text/plain": [
       "<Figure size 640x480 with 1 Axes>"
      ]
     },
     "metadata": {},
     "output_type": "display_data"
    }
   ],
   "source": [
    "pd.DataFrame(y_pred).hist(bins=10)\n"
   ]
  },
  {
   "cell_type": "code",
   "execution_count": 505,
   "metadata": {},
   "outputs": [
    {
     "data": {
      "text/html": [
       "<style>#sk-container-id-4 {color: black;}#sk-container-id-4 pre{padding: 0;}#sk-container-id-4 div.sk-toggleable {background-color: white;}#sk-container-id-4 label.sk-toggleable__label {cursor: pointer;display: block;width: 100%;margin-bottom: 0;padding: 0.3em;box-sizing: border-box;text-align: center;}#sk-container-id-4 label.sk-toggleable__label-arrow:before {content: \"▸\";float: left;margin-right: 0.25em;color: #696969;}#sk-container-id-4 label.sk-toggleable__label-arrow:hover:before {color: black;}#sk-container-id-4 div.sk-estimator:hover label.sk-toggleable__label-arrow:before {color: black;}#sk-container-id-4 div.sk-toggleable__content {max-height: 0;max-width: 0;overflow: hidden;text-align: left;background-color: #f0f8ff;}#sk-container-id-4 div.sk-toggleable__content pre {margin: 0.2em;color: black;border-radius: 0.25em;background-color: #f0f8ff;}#sk-container-id-4 input.sk-toggleable__control:checked~div.sk-toggleable__content {max-height: 200px;max-width: 100%;overflow: auto;}#sk-container-id-4 input.sk-toggleable__control:checked~label.sk-toggleable__label-arrow:before {content: \"▾\";}#sk-container-id-4 div.sk-estimator input.sk-toggleable__control:checked~label.sk-toggleable__label {background-color: #d4ebff;}#sk-container-id-4 div.sk-label input.sk-toggleable__control:checked~label.sk-toggleable__label {background-color: #d4ebff;}#sk-container-id-4 input.sk-hidden--visually {border: 0;clip: rect(1px 1px 1px 1px);clip: rect(1px, 1px, 1px, 1px);height: 1px;margin: -1px;overflow: hidden;padding: 0;position: absolute;width: 1px;}#sk-container-id-4 div.sk-estimator {font-family: monospace;background-color: #f0f8ff;border: 1px dotted black;border-radius: 0.25em;box-sizing: border-box;margin-bottom: 0.5em;}#sk-container-id-4 div.sk-estimator:hover {background-color: #d4ebff;}#sk-container-id-4 div.sk-parallel-item::after {content: \"\";width: 100%;border-bottom: 1px solid gray;flex-grow: 1;}#sk-container-id-4 div.sk-label:hover label.sk-toggleable__label {background-color: #d4ebff;}#sk-container-id-4 div.sk-serial::before {content: \"\";position: absolute;border-left: 1px solid gray;box-sizing: border-box;top: 0;bottom: 0;left: 50%;z-index: 0;}#sk-container-id-4 div.sk-serial {display: flex;flex-direction: column;align-items: center;background-color: white;padding-right: 0.2em;padding-left: 0.2em;position: relative;}#sk-container-id-4 div.sk-item {position: relative;z-index: 1;}#sk-container-id-4 div.sk-parallel {display: flex;align-items: stretch;justify-content: center;background-color: white;position: relative;}#sk-container-id-4 div.sk-item::before, #sk-container-id-4 div.sk-parallel-item::before {content: \"\";position: absolute;border-left: 1px solid gray;box-sizing: border-box;top: 0;bottom: 0;left: 50%;z-index: -1;}#sk-container-id-4 div.sk-parallel-item {display: flex;flex-direction: column;z-index: 1;position: relative;background-color: white;}#sk-container-id-4 div.sk-parallel-item:first-child::after {align-self: flex-end;width: 50%;}#sk-container-id-4 div.sk-parallel-item:last-child::after {align-self: flex-start;width: 50%;}#sk-container-id-4 div.sk-parallel-item:only-child::after {width: 0;}#sk-container-id-4 div.sk-dashed-wrapped {border: 1px dashed gray;margin: 0 0.4em 0.5em 0.4em;box-sizing: border-box;padding-bottom: 0.4em;background-color: white;}#sk-container-id-4 div.sk-label label {font-family: monospace;font-weight: bold;display: inline-block;line-height: 1.2em;}#sk-container-id-4 div.sk-label-container {text-align: center;}#sk-container-id-4 div.sk-container {/* jupyter's `normalize.less` sets `[hidden] { display: none; }` but bootstrap.min.css set `[hidden] { display: none !important; }` so we also need the `!important` here to be able to override the default hidden behavior on the sphinx rendered scikit-learn.org. See: https://github.com/scikit-learn/scikit-learn/issues/21755 */display: inline-block !important;position: relative;}#sk-container-id-4 div.sk-text-repr-fallback {display: none;}</style><div id=\"sk-container-id-4\" class=\"sk-top-container\"><div class=\"sk-text-repr-fallback\"><pre>MLPClassifier(alpha=1e-05, hidden_layer_sizes=(5, 2), max_iter=5000,\n",
       "              random_state=1, solver=&#x27;lbfgs&#x27;)</pre><b>In a Jupyter environment, please rerun this cell to show the HTML representation or trust the notebook. <br />On GitHub, the HTML representation is unable to render, please try loading this page with nbviewer.org.</b></div><div class=\"sk-container\" hidden><div class=\"sk-item\"><div class=\"sk-estimator sk-toggleable\"><input class=\"sk-toggleable__control sk-hidden--visually\" id=\"sk-estimator-id-4\" type=\"checkbox\" checked><label for=\"sk-estimator-id-4\" class=\"sk-toggleable__label sk-toggleable__label-arrow\">MLPClassifier</label><div class=\"sk-toggleable__content\"><pre>MLPClassifier(alpha=1e-05, hidden_layer_sizes=(5, 2), max_iter=5000,\n",
       "              random_state=1, solver=&#x27;lbfgs&#x27;)</pre></div></div></div></div></div>"
      ],
      "text/plain": [
       "MLPClassifier(alpha=1e-05, hidden_layer_sizes=(5, 2), max_iter=5000,\n",
       "              random_state=1, solver='lbfgs')"
      ]
     },
     "execution_count": 505,
     "metadata": {},
     "output_type": "execute_result"
    }
   ],
   "source": [
    "from sklearn.neural_network import MLPClassifier\n",
    "\n",
    "clf = MLPClassifier(solver='lbfgs', alpha=1e-5, hidden_layer_sizes=(5, 2), random_state=1, max_iter=5000)\n",
    "clf.fit(X_train, y_train)\n"
   ]
  },
  {
   "cell_type": "code",
   "execution_count": 508,
   "metadata": {},
   "outputs": [
    {
     "data": {
      "text/plain": [
       "0.05698324022346369"
      ]
     },
     "execution_count": 508,
     "metadata": {},
     "output_type": "execute_result"
    }
   ],
   "source": [
    "clf.score(X_train, y_train)"
   ]
  }
 ],
 "metadata": {
  "anaconda-cloud": {},
  "kernelspec": {
   "display_name": "Python 3",
   "language": "python",
   "name": "python3"
  },
  "language_info": {
   "codemirror_mode": {
    "name": "ipython",
    "version": 3
   },
   "file_extension": ".py",
   "mimetype": "text/x-python",
   "name": "python",
   "nbconvert_exporter": "python",
   "pygments_lexer": "ipython3",
   "version": "3.11.4"
  }
 },
 "nbformat": 4,
 "nbformat_minor": 1
}
