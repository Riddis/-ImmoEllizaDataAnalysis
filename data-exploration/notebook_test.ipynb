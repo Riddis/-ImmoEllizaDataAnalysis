{
 "cells": [
  {
   "attachments": {},
   "cell_type": "markdown",
   "metadata": {},
   "source": [
    "Preprocessing"
   ]
  },
  {
   "cell_type": "code",
   "execution_count": 1,
   "metadata": {},
   "outputs": [
    {
     "data": {
      "text/plain": [
       "(4774, 22)"
      ]
     },
     "execution_count": 1,
     "metadata": {},
     "output_type": "execute_result"
    }
   ],
   "source": [
    "import pandas as pd\n",
    "import numpy as np\n",
    "from pathlib import Path\n",
    "import re\n",
    "\n",
    "# Build path to file\n",
    "# Selects current working directory\n",
    "cwd = Path.cwd()\n",
    "csv_path = 'data/dataframe.csv'\n",
    "csv_cleaned_path = 'output/dataframe_cleaned.csv'\n",
    "src_path = (cwd / csv_path).resolve()\n",
    "out_path = (cwd / csv_cleaned_path).resolve()\n",
    "\n",
    "# Read the csv\n",
    "csv = pd.read_csv(src_path, index_col=0)\n",
    "csv.shape\n",
    "\n",
    "# Removing unneeded data\n",
    "# dropping empty rows\n",
    "csv = csv.dropna(how='all')\n",
    "# dropping duplicates (if any)\n",
    "csv = csv.drop_duplicates()\n",
    "# Dropping house and appartment groups since they have no data\n",
    "csv = csv.drop(csv[(csv['property_type'] == 'HOUSE_GROUP') | (csv['property_type'] == 'APARTMENT_GROUP')].index)\n",
    "# Drop rows without a price property\n",
    "csv = csv.drop(csv[pd.isna(csv['price']) == True].index)\n",
    "# Drop rows with 0 rooms\n",
    "csv = csv.drop(csv[csv['number_rooms'] == 0].index)\n",
    "# Drop rows without a living area property\n",
    "csv = csv.drop(csv[pd.isna(csv['living_area']) == True].index)\n",
    "# Assuming that a NaN value or 0 means no kitchen installed, replacing the strings with integers\n",
    "# 0 = NOT_INSTALLED, 0.5 = SEMI_EQUIPPED, 1 = INSTALLED, 2 = HYPER_EQUIPPED\n",
    "csv['kitchen'] = csv['kitchen'].fillna('NOT_INSTALLED')\n",
    "csv['kitchen'] = csv['kitchen'].replace('0', 'NOT_INSTALLED')\n",
    "csv['kitchen'] = csv['kitchen'].replace(0, 'NOT_INSTALLED')\n",
    "\"\"\"csv['kitchen'] = csv['kitchen'].replace('USA_UNINSTALLED', 0)\n",
    "csv['kitchen'] = csv['kitchen'].replace('SEMI_EQUIPPED', 0.5)\n",
    "csv['kitchen'] = csv['kitchen'].replace('USA_SEMI_EQUIPPED', 0.5)\n",
    "csv['kitchen'] = csv['kitchen'].replace('INSTALLED', 1)\n",
    "csv['kitchen'] = csv['kitchen'].replace('USA_INSTALLED', 1)\n",
    "csv['kitchen'] = csv['kitchen'].replace('HYPER_EQUIPPED', 2)\n",
    "csv['kitchen'] = csv['kitchen'].replace('USA_HYPER_EQUIPPED', 2)\"\"\"\n",
    "# Filling empty values and changing true/false to 1/0\n",
    "csv['furnished'] = csv['furnished'].fillna(0)\n",
    "csv['furnished'] = csv['furnished'].replace(False, 0)\n",
    "csv['furnished'] = csv['furnished'].replace(True, 1)\n",
    "# Assuming that a NaN value,0 or -1 means no fireplace installed\n",
    "csv['fireplace'] = csv['fireplace'].fillna(0)\n",
    "csv['fireplace'] = csv['fireplace'].replace(-1, 0)\n",
    "# Filling empty values and changing true/false to 1/0\n",
    "csv['terrace'] = csv['terrace'].fillna(0)\n",
    "csv['terrace'] = csv['terrace'].replace(False, 0)\n",
    "csv['terrace'] = csv['terrace'].replace(True, 1)\n",
    "# Assuming the surface area = living area in case of apartments\n",
    "to_replace = csv[((csv['surface_land'] == 'UNKNOWN')|(pd.isna(csv['surface_land']) == True)) & (csv['property_type'] == 'APARTMENT')]\n",
    "to_replace = to_replace.reset_index()\n",
    "# Looping through rows to replace the values\n",
    "for index, row in to_replace.iterrows():\n",
    "    csv.loc[row['index'], 'surface_land'] = row['living_area']\n",
    "# Dropping rows with no surface area \n",
    "csv = csv.drop(csv[(csv['surface_land'] == 'UNKNOWN') | (pd.isna(csv['surface_land']) == True) | (csv['surface_land'] == 0)].index)\n",
    "# Dropping rows with no facade info\n",
    "csv = csv.drop(csv[(csv['number_facades'] == 'UNKNOWN') | (pd.isna(csv['number_facades']) == True)].index)\n",
    "# Filling empty values and changing true/false to 1/0\n",
    "csv['swimming_pool'] = csv['swimming_pool'].fillna(0)\n",
    "csv['swimming_pool'] = csv['swimming_pool'].replace(False, 0)\n",
    "csv['swimming_pool'] = csv['swimming_pool'].replace(True, 1)\n",
    "csv = csv.drop(csv[(csv['building_state'] == 'UNKNOWN') | (pd.isna(csv['building_state']) == True)].index)\n",
    "\n",
    "# If terrace = 1 but no terrace_area present, drop the row\n",
    "csv = csv.drop(csv[(csv['terrace'] == 1) & (pd.isna(csv['terrace_area']) == True)].index)\n",
    "# Filling empty values and changing true/false to 1/0\n",
    "csv['terrace_area'] = csv['terrace_area'].fillna(0)\n",
    "# If garden = 1 but no garden_area present, drop the row\n",
    "csv = csv.drop(csv[(csv['garden'] == 1) & (pd.isna(csv['garden_area']) == True)].index)\n",
    "# No garden, filling empty values\n",
    "csv['garden'] = csv['garden'].fillna(0)\n",
    "csv['garden'] = csv['garden'].replace(False, 0)\n",
    "csv['garden'] = csv['garden'].replace(True, 1)\n",
    "csv['garden_area'] = csv['garden_area'].fillna(0)\n",
    "\n",
    "# Change strings to floats in certain columns\n",
    "csv = csv.drop(csv[(csv['surface_land'] == 0)].index)\n",
    "csv['surface_land']=csv['surface_land'].astype(\"float\")\n",
    "csv['number_facades']=csv['number_facades'].astype(\"float\")\n",
    "csv = csv.drop(csv[csv['zip_code'] == 'UNKNOWN'].index)\n",
    "csv = csv.drop(csv[pd.isna(csv['region']) == True].index)\n",
    "csv = csv.drop(csv[pd.isna(csv['province']) == True].index)\n",
    "csv['zip_code']=csv['zip_code'].astype(\"str\")\n",
    "csv['ppm'] = csv['price']/csv['surface_land']\n",
    "# Removing zipcodes that are not 4 numbers\n",
    "patternDel = \"\\b[0-9]\\{4\\}\\b\"\n",
    "filter = csv['zip_code'].str.contains(patternDel)\n",
    "csv = csv[~filter]\n",
    "# If we have less than 3 occurences, zipcode will be changed to 'other' so we don't overfit\n",
    "filter = csv['zip_code'].value_counts()\n",
    "csv['zip_code'] = np.where(csv['zip_code'].isin(filter.index[filter >= 4]), csv['zip_code'], 'other')\n",
    "# Removing outliers\n",
    "cols = ['price', 'number_rooms', 'living_area',\n",
    "       'furnished', 'fireplace', 'terrace', 'terrace_area', 'garden',\n",
    "       'garden_area', 'surface_land', 'number_facades', 'swimming_pool'] # one or more\n",
    "Q1 = csv[cols].quantile(0.25)\n",
    "Q3 = csv[cols].quantile(0.75)\n",
    "IQR = Q3 - Q1\n",
    "csv = csv[~((csv[cols] < (Q1 - 1.5 * IQR)) |(csv[cols] > (Q3 + 1.5 * IQR))).any(axis=1)]\n",
    "\n",
    "# Saves cleaned up csv to 'data/dataframe_cleaned.csv'\n",
    "csv.to_csv(out_path)\n",
    "csv.shape\n"
   ]
  },
  {
   "cell_type": "code",
   "execution_count": 2,
   "metadata": {},
   "outputs": [],
   "source": [
    "def convert(n):\n",
    "    if n == 'other':\n",
    "        return 'other'\n",
    "    else:\n",
    "        return str(int(int(n)/100))\n",
    "csv[\"digit\"]=csv[\"zip_code\"].agg(convert)"
   ]
  },
  {
   "cell_type": "markdown",
   "metadata": {},
   "source": [
    "Linear Regression"
   ]
  },
  {
   "cell_type": "code",
   "execution_count": 3,
   "metadata": {},
   "outputs": [
    {
     "name": "stdout",
     "output_type": "stream",
     "text": [
      "(4774, 98)\n"
     ]
    }
   ],
   "source": [
    "from sklearn.model_selection import train_test_split\n",
    "from sklearn.linear_model import LinearRegression\n",
    "from sklearn.metrics import mean_squared_error\n",
    "from sklearn.preprocessing import StandardScaler, MinMaxScaler, OneHotEncoder\n",
    "from sklearn.model_selection import cross_val_score\n",
    "\n",
    "x = csv[['number_rooms', 'living_area',\n",
    "       'terrace', 'terrace_area', 'garden',\n",
    "       'garden_area', 'surface_land', 'number_facades',\n",
    "       'property_type', 'building_state', 'kitchen', 'province', 'digit']]\n",
    "\n",
    "x = pd.get_dummies(data=x, drop_first=True)\n",
    "X = x.to_numpy()\n",
    "y = csv['price'].to_numpy()\n",
    "\n",
    "print(X.shape)\n",
    "\n",
    "X_train, X_test, y_train, y_test = train_test_split(X, y, random_state=123)\n",
    "\n",
    "scaler = StandardScaler()\n",
    "X_train = scaler.fit_transform(X_train)\n",
    "X_test = scaler.transform(X_test)"
   ]
  },
  {
   "cell_type": "code",
   "execution_count": 4,
   "metadata": {},
   "outputs": [],
   "source": [
    "def score (regressor, X_train, X_test, y_train, y_test):\n",
    "    score_train = regressor.score(X_train, y_train)\n",
    "    score_test = regressor.score(X_test, y_test)\n",
    "\n",
    "    # Get the root mean squared error\n",
    "    y_pred = regressor.predict(X_test)\n",
    "    #rmse = mean_squared_error(y_true=y_test, y_pred=y_pred, squared=False)\n",
    "    rmse= np.sqrt(mean_squared_error(y_true=y_test, y_pred=y_pred))\n",
    "\n",
    "    u = ((y_test - y_pred)**2).sum()\n",
    "    v = ((y_test - y.mean())**2).sum()\n",
    "    coef_determination = 1 - u/v\n",
    "\n",
    "    print(f\"score train:{score_train}\")\n",
    "    print(f\"score test:{score_test}\")\n",
    "    print(f\"rmse:{rmse}\")\n",
    "    print(f\"coef_determination:{coef_determination}\")"
   ]
  },
  {
   "cell_type": "code",
   "execution_count": 5,
   "metadata": {},
   "outputs": [
    {
     "name": "stdout",
     "output_type": "stream",
     "text": [
      "score train:0.7200823716194424\n",
      "score test:0.6880006377098221\n",
      "rmse:94674.7084296804\n",
      "coef_determination:0.6880574910104393\n"
     ]
    }
   ],
   "source": [
    "regressor = LinearRegression()\n",
    "regressor.fit(X_train, y_train)\n",
    "\n",
    "score(regressor, X_train, X_test, y_train, y_test)"
   ]
  },
  {
   "cell_type": "code",
   "execution_count": 6,
   "metadata": {},
   "outputs": [
    {
     "data": {
      "text/plain": [
       "{'number_rooms': 18594.114639111856,\n",
       " 'living_area': 66341.21691301125,\n",
       " 'terrace': 6635.56772656853,\n",
       " 'terrace_area': 1452.0447638629967,\n",
       " 'garden': 3130.795029377099,\n",
       " 'garden_area': -2232.9352291401037,\n",
       " 'surface_land': 20197.523312201498,\n",
       " 'number_facades': 9090.982159083751,\n",
       " 'property_type_HOUSE': 7918.2007138854615,\n",
       " 'building_state_GOOD': -25444.724163631607,\n",
       " 'building_state_JUST_RENOVATED': -4997.664754294405,\n",
       " 'building_state_TO_BE_DONE_UP': -28241.599564796277,\n",
       " 'building_state_TO_RENOVATE': -41495.45949150038,\n",
       " 'building_state_TO_RESTORE': -8839.7825988331,\n",
       " 'kitchen_INSTALLED': -12042.316430526012,\n",
       " 'kitchen_NOT_INSTALLED': -13333.001654765409,\n",
       " 'kitchen_SEMI_EQUIPPED': -12774.00788510697,\n",
       " 'kitchen_USA_HYPER_EQUIPPED': 3697.1954986723576,\n",
       " 'kitchen_USA_INSTALLED': -6922.450358004477,\n",
       " 'kitchen_USA_SEMI_EQUIPPED': -300.35829688182093,\n",
       " 'region_Flanders': -14557.389449938462,\n",
       " 'region_Wallonie': -56782.90892844586,\n",
       " 'digit_11': 14464.648629796655,\n",
       " 'digit_12': 7570.148693787161,\n",
       " 'digit_13': 5527.206900933621,\n",
       " 'digit_14': 1366.9384736137006,\n",
       " 'digit_15': -4747.399947003524,\n",
       " 'digit_16': -4146.04366243538,\n",
       " 'digit_17': -8406.71459798225,\n",
       " 'digit_18': -1787.4310700022152,\n",
       " 'digit_19': 8220.035768764988,\n",
       " 'digit_20': 1392.6088893769574,\n",
       " 'digit_21': -14239.147863207927,\n",
       " 'digit_22': -5712.181602138683,\n",
       " 'digit_23': -12362.097693177007,\n",
       " 'digit_24': -6333.4905973173845,\n",
       " 'digit_25': -5390.436683677732,\n",
       " 'digit_26': -7536.469071768146,\n",
       " 'digit_28': -7229.802427296823,\n",
       " 'digit_29': -3469.8682742521814,\n",
       " 'digit_30': 3379.8125801019314,\n",
       " 'digit_31': -2334.2140881142113,\n",
       " 'digit_32': -6265.1775379783485,\n",
       " 'digit_33': -15523.49502018853,\n",
       " 'digit_34': -5888.310272662998,\n",
       " 'digit_35': -7361.104805239206,\n",
       " 'digit_36': -4535.316619712303,\n",
       " 'digit_37': -4255.7412517497705,\n",
       " 'digit_38': -11153.301163233642,\n",
       " 'digit_39': -10873.677715176273,\n",
       " 'digit_40': -19174.756677868478,\n",
       " 'digit_41': -19666.0044781421,\n",
       " 'digit_42': -9062.280242892804,\n",
       " 'digit_43': -4477.767499449072,\n",
       " 'digit_44': -14055.597206947645,\n",
       " 'digit_45': -13264.725115452258,\n",
       " 'digit_46': -9388.918810368717,\n",
       " 'digit_48': -16352.065883483421,\n",
       " 'digit_49': -6687.882807183263,\n",
       " 'digit_50': -8887.927898678605,\n",
       " 'digit_51': -4300.879419107949,\n",
       " 'digit_53': -8363.35518432086,\n",
       " 'digit_55': -7970.319147858767,\n",
       " 'digit_56': -6912.389825258738,\n",
       " 'digit_60': -20652.284940716614,\n",
       " 'digit_61': -14727.250736525224,\n",
       " 'digit_62': -12355.680104728037,\n",
       " 'digit_66': -5047.5299903261075,\n",
       " 'digit_67': -3660.499495466038,\n",
       " 'digit_68': -6149.734026665433,\n",
       " 'digit_69': -7280.981357268487,\n",
       " 'digit_70': -11084.677724792768,\n",
       " 'digit_71': -12835.485895038828,\n",
       " 'digit_73': -17342.17293889973,\n",
       " 'digit_75': -3535.7266570605334,\n",
       " 'digit_77': -8155.405737205849,\n",
       " 'digit_78': -4471.778168419837,\n",
       " 'digit_79': -2130.873319650483,\n",
       " 'digit_80': -1689.2732694556362,\n",
       " 'digit_82': -1674.878599185672,\n",
       " 'digit_83': 2750.654118296251,\n",
       " 'digit_84': -10520.706006414264,\n",
       " 'digit_85': -15438.764519084634,\n",
       " 'digit_86': -9599.103543332765,\n",
       " 'digit_87': -10761.619666696693,\n",
       " 'digit_88': -10450.845633124125,\n",
       " 'digit_89': -13739.64794434916,\n",
       " 'digit_90': -4653.580332302239,\n",
       " 'digit_91': -13108.802174707194,\n",
       " 'digit_92': -11372.56575020478,\n",
       " 'digit_93': -15685.636799533993,\n",
       " 'digit_94': -15248.89057418582,\n",
       " 'digit_95': -18898.680459413183,\n",
       " 'digit_96': -21926.982881722604,\n",
       " 'digit_97': -6730.335085030603,\n",
       " 'digit_98': -7197.956496000504,\n",
       " 'digit_99': -8897.389070460038,\n",
       " 'digit_other': -33695.00513211451}"
      ]
     },
     "execution_count": 6,
     "metadata": {},
     "output_type": "execute_result"
    }
   ],
   "source": [
    "# TODO: zijn er variabelen met extreme coefficienten?\n",
    "# TODO: welke zijn de hoogste predictions, hoe zien de X eruit daarvoor?\n",
    "# TODO: normaliseer numerical variabelen tussen 0-1 (StandardScaler())\n",
    "# TODO: zipcode minder granulair?\n",
    "dict_coef = {x.columns[i]: regressor.coef_[i] for i in range(len(x.columns))}\n",
    "dict_coef"
   ]
  },
  {
   "cell_type": "code",
   "execution_count": 7,
   "metadata": {},
   "outputs": [
    {
     "data": {
      "text/plain": [
       "'np.quantile(y_pred, q=0.90)\\npd.DataFrame(y_pred).hist(bins=10)'"
      ]
     },
     "execution_count": 7,
     "metadata": {},
     "output_type": "execute_result"
    }
   ],
   "source": [
    "\"\"\"np.quantile(y_pred, q=0.90)\n",
    "pd.DataFrame(y_pred).hist(bins=10)\"\"\""
   ]
  },
  {
   "cell_type": "code",
   "execution_count": 8,
   "metadata": {},
   "outputs": [
    {
     "data": {
      "text/plain": [
       "\"\\nstd_slc = StandardScaler()\\npca = decomposition.PCA()\\ndec_tree = DecisionTreeClassifier()\\n\\npipe = Pipeline(steps=[('std_slc', std_slc),\\n                           ('pca', pca),\\n                           ('dec_tree', dec_tree)])\\n\\nn_components = list(range(1,X_train.shape[1]+1,1))\\ncriterion = ['gini', 'entropy']\\nmax_depth = [2,4,6,8,10,12]\\n\\nparameters = dict(pca__n_components=n_components,\\n                      dec_tree__criterion=criterion,\\n                      dec_tree__max_depth=max_depth)\\n\\nclf_GS = GridSearchCV(pipe, parameters)\\nclf_GS.fit(X_train, y_train)\\n\\nprint('Best Criterion:', clf_GS.best_estimator_.get_params()['dec_tree__criterion'])\\nprint('Best max_depth:', clf_GS.best_estimator_.get_params()['dec_tree__max_depth'])\\nprint('Best Number Of Components:', clf_GS.best_estimator_.get_params()['pca__n_components'])\\nparams = clf_GS.best_estimator_.get_params()['dec_tree']\\nprint(); print(params)\""
      ]
     },
     "execution_count": 8,
     "metadata": {},
     "output_type": "execute_result"
    }
   ],
   "source": [
    "from sklearn.tree import DecisionTreeRegressor, DecisionTreeClassifier\n",
    "from sklearn import decomposition\n",
    "from sklearn.pipeline import Pipeline\n",
    "from sklearn.model_selection import GridSearchCV\n",
    "\"\"\"\n",
    "std_slc = StandardScaler()\n",
    "pca = decomposition.PCA()\n",
    "dec_tree = DecisionTreeClassifier()\n",
    "\n",
    "pipe = Pipeline(steps=[('std_slc', std_slc),\n",
    "                           ('pca', pca),\n",
    "                           ('dec_tree', dec_tree)])\n",
    "\n",
    "n_components = list(range(1,X_train.shape[1]+1,1))\n",
    "criterion = ['gini', 'entropy']\n",
    "max_depth = [2,4,6,8,10,12]\n",
    "\n",
    "parameters = dict(pca__n_components=n_components,\n",
    "                      dec_tree__criterion=criterion,\n",
    "                      dec_tree__max_depth=max_depth)\n",
    "\n",
    "clf_GS = GridSearchCV(pipe, parameters)\n",
    "clf_GS.fit(X_train, y_train)\n",
    "\n",
    "print('Best Criterion:', clf_GS.best_estimator_.get_params()['dec_tree__criterion'])\n",
    "print('Best max_depth:', clf_GS.best_estimator_.get_params()['dec_tree__max_depth'])\n",
    "print('Best Number Of Components:', clf_GS.best_estimator_.get_params()['pca__n_components'])\n",
    "params = clf_GS.best_estimator_.get_params()['dec_tree']\n",
    "print(); print(params)\"\"\""
   ]
  },
  {
   "cell_type": "code",
   "execution_count": 9,
   "metadata": {},
   "outputs": [
    {
     "name": "stdout",
     "output_type": "stream",
     "text": [
      "score train:0.9991909605823303\n",
      "score test:0.4324341967194656\n",
      "rmse:127692.45403282777\n",
      "coef_determination:0.43253761997327334\n"
     ]
    }
   ],
   "source": [
    "regressor = DecisionTreeRegressor(ccp_alpha=10, random_state=0)\n",
    "regressor.fit(X_train, y_train).tree_.node_count\n",
    "\n",
    "score(regressor, X_train, X_test, y_train, y_test)\n",
    "#cross_val_score(regressor, X_test, y_test, cv = 5, scoring = 'accuracy').mean()"
   ]
  },
  {
   "cell_type": "code",
   "execution_count": 10,
   "metadata": {},
   "outputs": [
    {
     "name": "stdout",
     "output_type": "stream",
     "text": [
      "score train:0.6981211781992274\n",
      "score test:0.6220034375847273\n",
      "rmse:104207.99698511155\n",
      "coef_determination:0.6220723170594722\n"
     ]
    }
   ],
   "source": [
    "regressor = DecisionTreeRegressor(criterion='squared_error', max_depth=12, min_weight_fraction_leaf=0.0045)\n",
    "regressor.fit(X_train, y_train)\n",
    "\n",
    "score(regressor, X_train, X_test, y_train, y_test)\n",
    "#cross_val_score(regressor, X_test, y_test, cv = 5, scoring = 'accuracy').mean()"
   ]
  },
  {
   "cell_type": "code",
   "execution_count": 69,
   "metadata": {},
   "outputs": [
    {
     "name": "stdout",
     "output_type": "stream",
     "text": [
      "score train:0.9181837788249251\n",
      "score test:0.7348893423245118\n",
      "rmse:87271.15358243196\n",
      "coef_determination:0.73493765144863\n",
      "None\n"
     ]
    }
   ],
   "source": [
    "from xgboost import XGBRegressor\n",
    "\n",
    "regressor = XGBRegressor(objective ='reg:squarederror', n_estimators = 100, seed = 123, eta=0.25, min_child_weight=4)\n",
    "regressor.fit(X_train, y_train)\n",
    "\n",
    "print(score(regressor, X_train, X_test, y_train, y_test))"
   ]
  },
  {
   "cell_type": "code",
   "execution_count": 72,
   "metadata": {},
   "outputs": [
    {
     "name": "stdout",
     "output_type": "stream",
     "text": [
      "[14:50:41] WARNING: C:\\buildkite-agent\\builds\\buildkite-windows-cpu-autoscaling-group-i-0fdc6d574b9c0d168-1\\xgboost\\xgboost-ci-windows\\src\\objective\\regression_obj.cu:213: reg:linear is now deprecated in favor of reg:squarederror.\n",
      "[14:50:41] WARNING: C:\\buildkite-agent\\builds\\buildkite-windows-cpu-autoscaling-group-i-0fdc6d574b9c0d168-1\\xgboost\\xgboost-ci-windows\\src\\learner.cc:767: \n",
      "Parameters: { \"verbose\" } are not used.\n",
      "\n",
      "[14:50:42] WARNING: C:\\buildkite-agent\\builds\\buildkite-windows-cpu-autoscaling-group-i-0fdc6d574b9c0d168-1\\xgboost\\xgboost-ci-windows\\src\\objective\\regression_obj.cu:213: reg:linear is now deprecated in favor of reg:squarederror.\n",
      "[14:50:42] WARNING: C:\\buildkite-agent\\builds\\buildkite-windows-cpu-autoscaling-group-i-0fdc6d574b9c0d168-1\\xgboost\\xgboost-ci-windows\\src\\learner.cc:767: \n",
      "Parameters: { \"verbose\" } are not used.\n",
      "\n",
      "7977941242.51641\n",
      "8021675774.270775\n"
     ]
    }
   ],
   "source": [
    "import xgboost as xgb\n",
    "from sklearn.metrics import mean_squared_error as mse\n",
    "from sklearn.cross_validation import train_test_split as ttsplit\n",
    "\n",
    "xg_train_1 = xgb.DMatrix(X_train, label=y_train)\n",
    "params = {'objective': 'reg:linear', 'verbose': False}\n",
    "model_1 = xgb.train(params, xg_train_1, 30)\n",
    "xg_test = xgb.DMatrix(X_test, label=y_test)\n",
    "\n",
    "csv_bo = pd.read_csv(\"C:\\Users\\PC1\\Documents\\Repos\\-ImmoEllizaDataAnalysis\\output\\data_bo_cleaned.csv\", index_col=0)\n",
    "csv_bo[\"digit\"]=csv_bo[\"zip_code\"].agg(convert)\n",
    "x = csv_bo[['number_rooms', 'living_area',\n",
    "       'terrace', 'terrace_area', 'garden',\n",
    "       'garden_area', 'surface_land', 'number_facades',\n",
    "       'property_type', 'building_state', 'kitchen', 'province', 'digit']]\n",
    "\n",
    "x = pd.get_dummies(data=x, drop_first=True)\n",
    "X = x.to_numpy()\n",
    "y = csv['price'].to_numpy() \n",
    "X_train_1, y_train_1 = ttsplit(X_train, \n",
    "                                                     y_train, \n",
    "                                                     test_size=0.5,\n",
    "                                                     random_state=0)\n",
    "\n",
    "model_1.save_model('model_1.model')\n",
    "model_2 = xgb.train(params, xg_train_1, 30, xgb_model='model_1.model')\n",
    "\n",
    "print(mse(model_1.predict(xg_test), y_test))     # benchmark\n",
    "print(mse(model_2.predict(xg_test), y_test))  # \"before\""
   ]
  },
  {
   "cell_type": "code",
   "execution_count": null,
   "metadata": {},
   "outputs": [
    {
     "name": "stdout",
     "output_type": "stream",
     "text": [
      "score train:0.7172414777500633\n",
      "score test:0.6801913395316415\n",
      "rmse:95852.23267181792\n",
      "coef_determination:0.6802496158620164\n"
     ]
    }
   ],
   "source": [
    "from sklearn.linear_model import SGDRegressor\n",
    "from sklearn.pipeline import make_pipeline\n",
    "\n",
    "regressor = SGDRegressor(max_iter=1000, tol=1e-3)\n",
    "regressor.fit(X_train, y_train)\n",
    "\n",
    "\n",
    "score(regressor, X_train, X_test, y_train, y_test)"
   ]
  },
  {
   "cell_type": "code",
   "execution_count": null,
   "metadata": {},
   "outputs": [
    {
     "name": "stdout",
     "output_type": "stream",
     "text": [
      "score train:0.0611731843575419\n",
      "score test:0.038525963149078725\n",
      "rmse:108523.94056082008\n",
      "coef_determination:0.5978783265395025\n"
     ]
    }
   ],
   "source": [
    "from sklearn.neural_network import MLPClassifier\n",
    "\n",
    "regressor = MLPClassifier(solver='lbfgs', alpha=1e-5, hidden_layer_sizes=(5, 2), random_state=1, max_iter=1000)\n",
    "regressor.fit(X_train, y_train)\n",
    "\n",
    "score(regressor, X_train, X_test, y_train, y_test)"
   ]
  }
 ],
 "metadata": {
  "anaconda-cloud": {},
  "kernelspec": {
   "display_name": "Python 3",
   "language": "python",
   "name": "python3"
  },
  "language_info": {
   "codemirror_mode": {
    "name": "ipython",
    "version": 3
   },
   "file_extension": ".py",
   "mimetype": "text/x-python",
   "name": "python",
   "nbconvert_exporter": "python",
   "pygments_lexer": "ipython3",
   "version": "3.11.4"
  }
 },
 "nbformat": 4,
 "nbformat_minor": 1
}
