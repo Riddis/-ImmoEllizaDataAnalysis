{
 "cells": [
  {
   "cell_type": "code",
   "execution_count": 278,
   "metadata": {},
   "outputs": [
    {
     "data": {
      "text/plain": [
       "(17271, 17)"
      ]
     },
     "execution_count": 278,
     "metadata": {},
     "output_type": "execute_result"
    }
   ],
   "source": [
    "import pandas as pd\n",
    "import numpy as np\n",
    "from pathlib import Path\n",
    "\n",
    "# Build path to file\n",
    "# Selects current working directory\n",
    "cwd = Path.cwd()\n",
    "csv_path = 'data/dataframe.csv'\n",
    "csv_cleaned_path = 'data/dataframe_cleaned.csv'\n",
    "src_path = (cwd / csv_path).resolve()\n",
    "out_path = (cwd / csv_cleaned_path).resolve()\n",
    "\n",
    "# Read the csv\n",
    "csv = pd.read_csv(src_path, index_col=0)\n",
    "csv.shape"
   ]
  },
  {
   "cell_type": "code",
   "execution_count": 279,
   "metadata": {},
   "outputs": [],
   "source": [
    "# Removing unneeded data\n",
    "# dropping empty rows\n",
    "csv = csv.dropna(how='all')\n",
    "# dropping duplicates (if any)\n",
    "csv = csv.drop_duplicates()\n",
    "# Dropping house and appartment groups since they have no data\n",
    "csv = csv.drop(csv[(csv['type_of_property'] == 'HOUSE_GROUP') | (csv['type_of_property'] == 'APARTMENT_GROUP')].index)\n",
    "# Drop rows without a price property\n",
    "csv = csv.drop(csv[pd.isna(csv['price']) == True].index)\n",
    "# Drop rows with 0 rooms\n",
    "csv = csv.drop(csv[csv['number_rooms'] == 0].index)\n",
    "# Drop rows without a living area property\n",
    "csv = csv.drop(csv[pd.isna(csv['living_area']) == True].index)\n",
    "# Assuming that a NaN value or 0 means no kitchen installed, replacing the strings with integers\n",
    "# 0 = NOT_INSTALLED, 0.5 = SEMI_EQUIPPED, 1 = INSTALLED, 2 = HYPER_EQUIPPED\n",
    "csv['kitchen'] = csv['kitchen'].fillna(0)\n",
    "csv['kitchen'] = csv['kitchen'].replace('0', 0)\n",
    "csv['kitchen'] = csv['kitchen'].replace('NOT_INSTALLED', 0)\n",
    "csv['kitchen'] = csv['kitchen'].replace('USA_UNINSTALLED', 0)\n",
    "csv['kitchen'] = csv['kitchen'].replace('SEMI_EQUIPPED', 0.5)\n",
    "csv['kitchen'] = csv['kitchen'].replace('USA_SEMI_EQUIPPED', 0.5)\n",
    "csv['kitchen'] = csv['kitchen'].replace('INSTALLED', 1)\n",
    "csv['kitchen'] = csv['kitchen'].replace('USA_INSTALLED', 1)\n",
    "csv['kitchen'] = csv['kitchen'].replace('HYPER_EQUIPPED', 2)\n",
    "csv['kitchen'] = csv['kitchen'].replace('USA_HYPER_EQUIPPED', 2)\n",
    "# Filling empty values and changing true/false to 1/0\n",
    "csv['furnished'] = csv['furnished'].fillna(0)\n",
    "csv['furnished'] = csv['furnished'].replace(False, 0)\n",
    "csv['furnished'] = csv['furnished'].replace(True, 1)\n",
    "# Assuming that a NaN value,0 or -1 means no fireplace installed\n",
    "csv['fireplace'] = csv['fireplace'].fillna(0)\n",
    "csv['fireplace'] = csv['fireplace'].replace(-1, 0)\n",
    "# Filling empty values and changing true/false to 1/0\n",
    "csv['terrace'] = csv['terrace'].fillna(0)\n",
    "csv['terrace'] = csv['terrace'].replace(False, 0)\n",
    "csv['terrace'] = csv['terrace'].replace(True, 1)\n",
    "# If terrace = 1 but no terrace_area present, calculate the mean terrace_area of property_type\n",
    "filter = csv[(csv['terrace'] == 1) & (pd.isna(csv['terrace_area']) == False)][['type_of_property', 'terrace_area']]\n",
    "mean_calc = (filter.groupby('type_of_property')['terrace_area'].sum())/(filter.groupby('type_of_property')['terrace_area'].count())\n",
    "# Loop through property types\n",
    "for type in csv['type_of_property'].unique():\n",
    "    try:\n",
    "        csv['terrace_area'] = csv[(csv['terrace'] == 1) & (pd.isna(csv['terrace_area']) == True) & (csv['type_of_property'] == type)]['terrace_area'].replace(np.nan, mean_calc.loc[type])\n",
    "    except: \n",
    "        pass\n",
    "# No terrace, terrace_area = 0\n",
    "csv['terrace_area'] = csv['terrace_area'].fillna(0)\n",
    "# Filling empty values and changing true/false to 1/0\n",
    "csv['garden'] = csv['garden'].fillna(0)\n",
    "csv['garden'] = csv['garden'].replace(False, 0)\n",
    "csv['garden'] = csv['garden'].replace(True, 1)\n",
    "# If garden = 1 but no garden_area present, calculate the mean garden_area of property_type\n",
    "filter = csv[(csv['garden'] == 1) & (pd.isna(csv['garden_area']) == False)][['type_of_property', 'garden_area']]\n",
    "mean_calc = (filter.groupby('type_of_property')['garden_area'].sum())/(filter.groupby('type_of_property')['garden_area'].count())\n",
    "# Loop through property types\n",
    "for type in csv['type_of_property'].unique():\n",
    "    try:\n",
    "        csv['garden_area'] = csv[(csv['garden'] == 1) & (pd.isna(csv['garden_area']) == True) & (csv['type_of_property'] == type)]['garden_area'].replace(np.nan, mean_calc.loc[type])\n",
    "    except: \n",
    "        pass\n",
    "# No terrace, terrace_area = 0\n",
    "csv['garden_area'] = csv['garden_area'].fillna(0)"
   ]
  },
  {
   "cell_type": "code",
   "execution_count": 275,
   "metadata": {},
   "outputs": [],
   "source": [
    "\n"
   ]
  },
  {
   "cell_type": "code",
   "execution_count": 282,
   "metadata": {},
   "outputs": [
    {
     "data": {
      "text/html": [
       "<div>\n",
       "<style scoped>\n",
       "    .dataframe tbody tr th:only-of-type {\n",
       "        vertical-align: middle;\n",
       "    }\n",
       "\n",
       "    .dataframe tbody tr th {\n",
       "        vertical-align: top;\n",
       "    }\n",
       "\n",
       "    .dataframe thead th {\n",
       "        text-align: right;\n",
       "    }\n",
       "</style>\n",
       "<table border=\"1\" class=\"dataframe\">\n",
       "  <thead>\n",
       "    <tr style=\"text-align: right;\">\n",
       "      <th></th>\n",
       "      <th>locality</th>\n",
       "      <th>type_of_property</th>\n",
       "      <th>subtype_of_property</th>\n",
       "      <th>price</th>\n",
       "      <th>number_rooms</th>\n",
       "      <th>living_area</th>\n",
       "      <th>kitchen</th>\n",
       "      <th>furnished</th>\n",
       "      <th>fireplace</th>\n",
       "      <th>terrace</th>\n",
       "      <th>terrace_area</th>\n",
       "      <th>garden</th>\n",
       "      <th>garden_area</th>\n",
       "      <th>surface_land</th>\n",
       "      <th>number_facades</th>\n",
       "      <th>swimming_pool</th>\n",
       "      <th>building_state</th>\n",
       "    </tr>\n",
       "  </thead>\n",
       "  <tbody>\n",
       "  </tbody>\n",
       "</table>\n",
       "</div>"
      ],
      "text/plain": [
       "Empty DataFrame\n",
       "Columns: [locality, type_of_property, subtype_of_property, price, number_rooms, living_area, kitchen, furnished, fireplace, terrace, terrace_area, garden, garden_area, surface_land, number_facades, swimming_pool, building_state]\n",
       "Index: []"
      ]
     },
     "execution_count": 282,
     "metadata": {},
     "output_type": "execute_result"
    }
   ],
   "source": [
    "\n"
   ]
  },
  {
   "cell_type": "code",
   "execution_count": 277,
   "metadata": {},
   "outputs": [
    {
     "name": "stdout",
     "output_type": "stream",
     "text": [
      "36.044265154819016\n",
      "18.07033465683494\n"
     ]
    }
   ],
   "source": []
  },
  {
   "cell_type": "code",
   "execution_count": 234,
   "metadata": {},
   "outputs": [],
   "source": []
  },
  {
   "cell_type": "code",
   "execution_count": 239,
   "metadata": {},
   "outputs": [
    {
     "data": {
      "text/plain": [
       "(16052, 17)"
      ]
     },
     "execution_count": 239,
     "metadata": {},
     "output_type": "execute_result"
    }
   ],
   "source": [
    "\n",
    "csv.to_csv(out_path)\n",
    "csv.shape"
   ]
  }
 ],
 "metadata": {
  "anaconda-cloud": {},
  "kernelspec": {
   "display_name": "Python 3",
   "language": "python",
   "name": "python3"
  },
  "language_info": {
   "codemirror_mode": {
    "name": "ipython",
    "version": 3
   },
   "file_extension": ".py",
   "mimetype": "text/x-python",
   "name": "python",
   "nbconvert_exporter": "python",
   "pygments_lexer": "ipython3",
   "version": "3.11.2"
  }
 },
 "nbformat": 4,
 "nbformat_minor": 1
}
