{
 "cells": [
  {
   "cell_type": "code",
   "execution_count": 88,
   "metadata": {},
   "outputs": [
    {
     "data": {
      "text/plain": [
       "(17271, 17)"
      ]
     },
     "execution_count": 88,
     "metadata": {},
     "output_type": "execute_result"
    }
   ],
   "source": [
    "import pandas as pd\n",
    "import numpy as np\n",
    "from pathlib import Path\n",
    "\n",
    "# Build path to file\n",
    "# Selects current working directory\n",
    "cwd = Path.cwd()\n",
    "csv_path = 'data/dataframe.csv'\n",
    "csv_cleaned_path = 'data/dataframe_cleaned.csv'\n",
    "src_path = (cwd / csv_path).resolve()\n",
    "out_path = (cwd / csv_cleaned_path).resolve()\n",
    "\n",
    "# Read the csv\n",
    "csv = pd.read_csv(src_path, index_col=0)\n",
    "csv.shape"
   ]
  },
  {
   "cell_type": "code",
   "execution_count": 107,
   "metadata": {},
   "outputs": [
    {
     "data": {
      "text/plain": [
       "(7034, 17)"
      ]
     },
     "execution_count": 107,
     "metadata": {},
     "output_type": "execute_result"
    }
   ],
   "source": [
    "# Removing unneeded data\n",
    "# dropping empty rows\n",
    "csv = csv.dropna(how='all')\n",
    "# dropping duplicates (if any)\n",
    "csv = csv.drop_duplicates()\n",
    "# Dropping house and appartment groups since they have no data\n",
    "csv = csv.drop(csv[(csv['type_of_property'] == 'HOUSE_GROUP') | (csv['type_of_property'] == 'APARTMENT_GROUP')].index)\n",
    "# Drop rows without a price property\n",
    "csv = csv.drop(csv[pd.isna(csv['price']) == True].index)\n",
    "# Drop rows with 0 rooms\n",
    "csv = csv.drop(csv[csv['number_rooms'] == 0].index)\n",
    "# Drop rows without a living area property\n",
    "csv = csv.drop(csv[pd.isna(csv['living_area']) == True].index)\n",
    "# Assuming that a NaN value or 0 means no kitchen installed, replacing the strings with integers\n",
    "# 0 = NOT_INSTALLED, 0.5 = SEMI_EQUIPPED, 1 = INSTALLED, 2 = HYPER_EQUIPPED\n",
    "csv['kitchen'] = csv['kitchen'].fillna(0)\n",
    "csv['kitchen'] = csv['kitchen'].replace('0', 0)\n",
    "csv['kitchen'] = csv['kitchen'].replace('NOT_INSTALLED', 0)\n",
    "csv['kitchen'] = csv['kitchen'].replace('USA_UNINSTALLED', 0)\n",
    "csv['kitchen'] = csv['kitchen'].replace('SEMI_EQUIPPED', 0.5)\n",
    "csv['kitchen'] = csv['kitchen'].replace('USA_SEMI_EQUIPPED', 0.5)\n",
    "csv['kitchen'] = csv['kitchen'].replace('INSTALLED', 1)\n",
    "csv['kitchen'] = csv['kitchen'].replace('USA_INSTALLED', 1)\n",
    "csv['kitchen'] = csv['kitchen'].replace('HYPER_EQUIPPED', 2)\n",
    "csv['kitchen'] = csv['kitchen'].replace('USA_HYPER_EQUIPPED', 2)\n",
    "# Filling empty values and changing true/false to 1/0\n",
    "csv['furnished'] = csv['furnished'].fillna(0)\n",
    "csv['furnished'] = csv['furnished'].replace(False, 0)\n",
    "csv['furnished'] = csv['furnished'].replace(True, 1)\n",
    "# Assuming that a NaN value,0 or -1 means no fireplace installed\n",
    "csv['fireplace'] = csv['fireplace'].fillna(0)\n",
    "csv['fireplace'] = csv['fireplace'].replace(-1, 0)\n",
    "# Filling empty values and changing true/false to 1/0\n",
    "csv['terrace'] = csv['terrace'].fillna(0)\n",
    "csv['terrace'] = csv['terrace'].replace(False, 0)\n",
    "csv['terrace'] = csv['terrace'].replace(True, 1)\n",
    "# If terrace = 1 but no terrace_area present, drop the row\n",
    "csv = csv.drop(csv[(csv['terrace'] == 1) & (pd.isna(csv['terrace_area']) == True)].index)\n",
    "# Filling empty values and changing true/false to 1/0\n",
    "csv['terrace_area'] = csv['terrace_area'].fillna(0)\n",
    "# If garden = 1 but no garden_area present, drop the row\n",
    "csv = csv.drop(csv[(csv['garden'] == 1) & (pd.isna(csv['garden_area']) == True)].index)\n",
    "# No garden, filling empty values\n",
    "csv['garden'] = csv['garden'].fillna(0)\n",
    "csv['garden'] = csv['garden'].replace(False, 0)\n",
    "csv['garden'] = csv['garden'].replace(True, 1)\n",
    "csv['garden_area'] = csv['garden_area'].fillna(0)\n",
    "# Assuming the surface area = living area in case of apartments\n",
    "to_replace = csv[((csv['surface_land'] == 'UNKNOWN')|(pd.isna(csv['surface_land']) == True)) & (csv['type_of_property'] == 'APARTMENT')]\n",
    "to_replace = to_replace.reset_index()\n",
    "# Looping through rows to replace the values\n",
    "for index, row in to_replace.iterrows():\n",
    "    csv.loc[row['index'], 'surface_land'] = row['living_area']\n",
    "# Dropping rows with no surface area \n",
    "csv = csv.drop(csv[(csv['surface_land'] == 'UNKNOWN') | (pd.isna(csv['surface_land']) == True)].index)\n",
    "# Dropping rows with no facade info\n",
    "csv = csv.drop(csv[(csv['number_facades'] == 'UNKNOWN') | (pd.isna(csv['number_facades']) == True)].index)\n",
    "# Filling empty values and changing true/false to 1/0\n",
    "csv['swimming_pool'] = csv['swimming_pool'].fillna(0)\n",
    "csv['swimming_pool'] = csv['swimming_pool'].replace(False, 0)\n",
    "csv['swimming_pool'] = csv['swimming_pool'].replace(True, 1)\n",
    "csv = csv.drop(csv[(csv['building_state'] == 'UNKNOWN') | (pd.isna(csv['building_state']) == True)].index)\n",
    "csv.to_csv(out_path)\n",
    "csv.shape\n"
   ]
  },
  {
   "attachments": {},
   "cell_type": "markdown",
   "metadata": {},
   "source": [
    "This codeblock fills in missing values of garden_area and terrace_area with the mean value of identical property types"
   ]
  },
  {
   "cell_type": "code",
   "execution_count": 275,
   "metadata": {},
   "outputs": [],
   "source": [
    "\n",
    "filter = csv[(csv['terrace'] == 1) & (pd.isna(csv['terrace_area']) == False)][['type_of_property', 'terrace_area']]\n",
    "mean_calc = (filter.groupby('type_of_property')['terrace_area'].sum())/(filter.groupby('type_of_property')['terrace_area'].count())\n",
    "# Loop through property types\n",
    "for type in csv['type_of_property'].unique():\n",
    "    try:\n",
    "        csv['terrace_area'] = csv[(csv['terrace'] == 1) & (pd.isna(csv['terrace_area']) == True) & (csv['type_of_property'] == type)]['terrace_area'].replace(np.nan, mean_calc.loc[type])\n",
    "    except: \n",
    "        pass\n",
    "# No terrace, terrace_area = 0\n",
    "csv['terrace_area'] = csv['terrace_area'].fillna(0)\n",
    "# Filling empty values and changing true/false to 1/0\n",
    "csv['garden'] = csv['garden'].fillna(0)\n",
    "csv['garden'] = csv['garden'].replace(False, 0)\n",
    "csv['garden'] = csv['garden'].replace(True, 1)\n",
    "# If garden = 1 but no garden_area present, calculate the mean garden_area of property_type\n",
    "filter = csv[(csv['garden'] == 1) & (pd.isna(csv['garden_area']) == False)][['type_of_property', 'garden_area']]\n",
    "mean_calc = (filter.groupby('type_of_property')['garden_area'].sum())/(filter.groupby('type_of_property')['garden_area'].count())\n",
    "# Loop through property types\n",
    "for type in csv['type_of_property'].unique():\n",
    "    try:\n",
    "        csv['garden_area'] = csv[(csv['garden'] == 1) & (pd.isna(csv['garden_area']) == True) & (csv['type_of_property'] == type)]['garden_area'].replace(np.nan, mean_calc.loc[type])\n",
    "    except: \n",
    "        pass\n",
    "# No terrace, terrace_area = 0\n",
    "csv['garden_area'] = csv['garden_area'].fillna(0)"
   ]
  },
  {
   "cell_type": "code",
   "execution_count": 239,
   "metadata": {},
   "outputs": [
    {
     "data": {
      "text/plain": [
       "(16052, 17)"
      ]
     },
     "execution_count": 239,
     "metadata": {},
     "output_type": "execute_result"
    }
   ],
   "source": [
    "\n",
    "csv.to_csv(out_path)\n",
    "csv.shape"
   ]
  }
 ],
 "metadata": {
  "anaconda-cloud": {},
  "kernelspec": {
   "display_name": "Python 3",
   "language": "python",
   "name": "python3"
  },
  "language_info": {
   "codemirror_mode": {
    "name": "ipython",
    "version": 3
   },
   "file_extension": ".py",
   "mimetype": "text/x-python",
   "name": "python",
   "nbconvert_exporter": "python",
   "pygments_lexer": "ipython3",
   "version": "3.11.2"
  }
 },
 "nbformat": 4,
 "nbformat_minor": 1
}
